{
 "cells": [
  {
   "cell_type": "markdown",
   "metadata": {},
   "source": [
    "# Simplex Methode"
   ]
  },
  {
   "cell_type": "markdown",
   "metadata": {},
   "source": [
    "## 1. Standardize the writing of our problem"
   ]
  },
  {
   "cell_type": "code",
   "execution_count": 46,
   "metadata": {},
   "outputs": [
    {
     "name": "stdout",
     "output_type": "stream",
     "text": [
      "[[ 2.  3.  1.  1.  0.  0.  5.]\n",
      " [ 4.  1.  2.  0.  1.  0. 11.]\n",
      " [ 3.  4.  2.  0.  0.  1.  8.]\n",
      " [ 5.  4.  3.  0.  0.  0.  0.]]\n"
     ]
    }
   ],
   "source": [
    "import numpy as np\n",
    "import warnings\n",
    "warnings.simplefilter(\"ignore\")\n",
    "\n",
    "\n",
    "#Define the initial problem \n",
    "objective_function = np.array([5, 4, 3])  \n",
    "constraints_factor = np.array([[2, 3, 1], [4, 1, 2], [3, 4, 2]])  \n",
    "constrains_values = np.array([5, 11, 8]) \n",
    "\n",
    "def initialize_simplex(objective_function, constraints_factor, constrains_values):\n",
    "    num_constraints, num_variables = constraints_factor.shape\n",
    "    \n",
    "    # Construction of the simplex table\n",
    "    tableau = np.zeros((num_constraints + 1, num_variables + num_constraints + 1))\n",
    "\n",
    "    # Fill in the constraint coefficient matrix\n",
    "    tableau[:-1, :-1] = np.hstack((constraints_factor, np.eye(num_constraints)))\n",
    "\n",
    "    # Fill in the constraints vector (right-hand column)\n",
    "    tableau[:-1, -1] = constrains_values\n",
    "\n",
    "    # Fill in the objective function line (last line)\n",
    "    tableau[-1, :-1] = np.hstack((objective_function, np.zeros(num_constraints)))\n",
    "\n",
    "    return tableau\n",
    "\n",
    "simplex_matrix = initialize_simplex(objective_function, constraints_factor, constrains_values)\n",
    "print(simplex_matrix)\n"
   ]
  },
  {
   "cell_type": "markdown",
   "metadata": {},
   "source": [
    "## 2. On doit chercher la colonne pivot "
   ]
  },
  {
   "cell_type": "code",
   "execution_count": 47,
   "metadata": {},
   "outputs": [],
   "source": [
    "def pivot_column(simplex_matrix):\n",
    "    last_row = simplex_matrix[-1, :-1]\n",
    "    pivot_col = np.argmax(last_row)  # Index of the most positive coefficient\n",
    "    return pivot_col if last_row[pivot_col] > 0 else None\n"
   ]
  },
  {
   "cell_type": "markdown",
   "metadata": {},
   "source": [
    "## 3. On doit chercher le pivot "
   ]
  },
  {
   "cell_type": "code",
   "execution_count": 48,
   "metadata": {},
   "outputs": [],
   "source": [
    "def find_pivot (simplex_matrix, pivot_col):\n",
    "    num_rows =( simplex_matrix.shape[0] - 1)\n",
    "    rhs = simplex_matrix[:-1, -1]\n",
    "    column = simplex_matrix[:-1, pivot_col]\n",
    "    \n",
    "    ratios = np.where(column > 0, rhs / column, np.inf)\n",
    "    pivot_row = np.argmin(ratios)\n",
    "    \n",
    "    return pivot_row if ratios[pivot_row] != np.inf else None\n",
    "    "
   ]
  },
  {
   "cell_type": "markdown",
   "metadata": {},
   "source": [
    "## 4. On iterre jusqu'à ce que les coeficient soit tous negatif "
   ]
  },
  {
   "cell_type": "code",
   "execution_count": 49,
   "metadata": {},
   "outputs": [],
   "source": [
    "def pivot(tableau, pivot_row, pivot_col):\n",
    "    tableau[pivot_row, :] /= tableau[pivot_row, pivot_col]\n",
    "    \n",
    "    for i in range(tableau.shape[0]):\n",
    "        if i != pivot_row:\n",
    "            tableau[i, :] -= tableau[i, pivot_col] * tableau[pivot_row, :]\n"
   ]
  },
  {
   "cell_type": "code",
   "execution_count": 50,
   "metadata": {},
   "outputs": [],
   "source": [
    "def simplex_method(objective_function, constraints_factor, constrains_values):\n",
    "    tableau = initialize_simplex(objective_function, constraints_factor, constrains_values)\n",
    "    \n",
    "    while True:\n",
    "        pivot_col = pivot_column(tableau)\n",
    "        if pivot_col is None:\n",
    "            break  # We've reached the optimum\n",
    "        \n",
    "        pivot_row = find_pivot(tableau, pivot_col)\n",
    "        if pivot_row is None:\n",
    "            raise ValueError(\"Problème non borné !\")\n",
    "        \n",
    "        pivot(tableau, pivot_row, pivot_col)\n",
    "\n",
    "    \n",
    "    print(tableau)\n",
    "\n",
    "    solution=[]\n",
    "    for i in range(len(objective_function)) :\n",
    "        if (np.sum(tableau[:-1,i])==1.0) :\n",
    "            sol_index = np.where(tableau[:-1,i]==1.0)[0]\n",
    "            solution.append(tableau[sol_index,-1][0])\n",
    "        else : \n",
    "            solution.append(0.0)\n",
    "\n",
    "    optimal_value = abs(tableau[-1, -1])\n",
    "    return solution, optimal_value\n"
   ]
  },
  {
   "cell_type": "code",
   "execution_count": 51,
   "metadata": {},
   "outputs": [
    {
     "name": "stdout",
     "output_type": "stream",
     "text": [
      "[[-2.02884615e+02  0.00000000e+00  0.00000000e+00  1.00000000e+00\n",
      "  -5.57692308e+00  7.69230769e-01  6.92307692e+04]\n",
      " [ 2.30769231e+00  0.00000000e+00  1.00000000e+00  0.00000000e+00\n",
      "   6.15384615e-02 -1.53846154e-02  2.61538462e+03]\n",
      " [ 7.69230769e-01  1.00000000e+00  0.00000000e+00  0.00000000e+00\n",
      "  -4.61538462e-02  6.15384615e-02  5.53846154e+03]\n",
      " [-8.78461538e+00  0.00000000e+00  0.00000000e+00  0.00000000e+00\n",
      "  -3.69230769e-02 -1.90769231e-01 -3.15692308e+04]]\n",
      "Solution optimale : [0.0, 5538.461538461539, 2615.3846153846152]\n",
      "Valeur optimale de la fonction objective : 31569.23076923077\n"
     ]
    }
   ],
   "source": [
    "objective_function = np.array([2.6, 4.0, 3.6])  \n",
    "constraints_factor = np.array([[37.5, 12.5, 100.0], [50, 5, 20], [50, 20, 15]])  \n",
    "constrains_values = np.array([400000.0, 80000.0 , 150000.0]) \n",
    "\n",
    "solution, optimal_value = simplex_method(objective_function, constraints_factor, constrains_values)\n",
    "print(\"Solution optimale :\", solution)\n",
    "print(\"Valeur optimale de la fonction objective :\", optimal_value)"
   ]
  },
  {
   "cell_type": "markdown",
   "metadata": {},
   "source": [
    "### We can also simply use Scipy's simplex method, which always aims to minimize the objective function. \n",
    "\n",
    "### (This means inverting the coeficients of the objective function)"
   ]
  },
  {
   "cell_type": "code",
   "execution_count": 52,
   "metadata": {},
   "outputs": [
    {
     "name": "stdout",
     "output_type": "stream",
     "text": [
      " Solution optimale :\n",
      "x1=40,x2=20\n",
      " Profit maximal = 200eur\n"
     ]
    }
   ],
   "source": [
    "import numpy as np\n",
    "from scipy.optimize import linprog\n",
    "\n",
    "# Fonction objectif ( negative car linprog minimise )\n",
    "c = [ -3 , -4]\n",
    "\n",
    "# Contraintes\n",
    "A = [[2 , 1] , [1 , 2]]\n",
    "b = [100 , 80]\n",
    "\n",
    "# Resolution\n",
    "result = linprog (c , A_ub =A , b_ub =b , method ='simplex')\n",
    "\n",
    "print (\" Solution optimale :\")\n",
    "print (f\"x1={result.x[0]:.0f},x2={result.x[1]:.0f}\")\n",
    "print ( f\" Profit maximal = { - result .fun :.0f}eur\")"
   ]
  },
  {
   "cell_type": "code",
   "execution_count": 53,
   "metadata": {},
   "outputs": [
    {
     "name": "stdout",
     "output_type": "stream",
     "text": [
      " Solution optimale :\n",
      "x11=0,x12=0,x13=0\n",
      "x21 =0,x22=0,x23=0\n",
      "Cout minimal=0eur\n"
     ]
    }
   ],
   "source": [
    "import numpy as np\n",
    "from scipy.optimize import linprog\n",
    "\n",
    "# Fonction objectif ( negative car linprog minimise )\n",
    "c = [2 , 4 , 5 , 3 , 1 , 3]\n",
    "\n",
    "# Contraintes\n",
    "A = [\n",
    "[1 , 0 , 0 , 1 , 0 , 0], # Magasin 1\n",
    "[0 , 1 , 0 , 0 , 1 , 0], # Magasin 2\n",
    "[0 , 0 , 1 , 0 , 0 , 1], # Magasin 3\n",
    "[1 , 1 , 1 , 0 , 0 , 0], # Entrepot 1\n",
    "[0 , 0 , 0 , 1 , 1 , 1]\n",
    "]\n",
    "b = [30 , 40 , 50, 50 , 70]\n",
    "\n",
    "# Resolution\n",
    "result = linprog (c , A_ub =A , b_ub =b , method ='simplex')\n",
    "\n",
    "print (\" Solution optimale :\")\n",
    "print (f\"x11={result.x[0]:.0f},x12={result.x[1]:.0f},x13={result.x[2]:.0f}\")\n",
    "print (f\"x21 ={result.x[3]:.0f},x22={result.x[4]:.0f},x23={result.x[5]:.0f}\")\n",
    "print (f\"Cout minimal={result.fun:.0f}eur\")"
   ]
  },
  {
   "cell_type": "code",
   "execution_count": 54,
   "metadata": {},
   "outputs": [
    {
     "name": "stdout",
     "output_type": "stream",
     "text": [
      " Solution optimale :\n",
      "x11=30,x12=0,x13=20\n",
      "x21 =0,x22=40,x23=30\n",
      "Cout minimal=290eur\n"
     ]
    }
   ],
   "source": [
    "# Fonction objectif ( negative car linprog minimise )\n",
    "c = [2 , 4 , 5 , 3 ,1 , 3]\n",
    "\n",
    "\n",
    "\n",
    "A_eq = [\n",
    "[1 , 0 , 0 , 1 , 0 , 0] , # Magasin 1\n",
    "[0 , 1 , 0 , 0 , 1 , 0] , # Magasin 2\n",
    "[0 , 0 , 1 , 0 , 0 , 1] # Magasin 3\n",
    "]\n",
    "b_eq = [30 , 40 , 50]\n",
    "\n",
    "# Contraintes\n",
    "A_ub = [\n",
    "[1 , 1 , 1 , 0 , 0 , 0] , # Entrepot 1\n",
    "[0 , 0 , 0 , 1 , 1 , 1] # Entrepot 2\n",
    " ]\n",
    "b_ub = [50 , 70]\n",
    "\n",
    "# Resolution\n",
    "result = linprog (c , A_ub = A_ub , b_ub = b_ub , A_eq = A_eq , b_eq = b_eq , method ='simplex')\n",
    "\n",
    "print (\" Solution optimale :\")\n",
    "print (f\"x11={result.x[0]:.0f},x12={result.x[1]:.0f},x13={result.x[2]:.0f}\")\n",
    "print (f\"x21 ={result.x[3]:.0f},x22={result.x[4]:.0f},x23={result.x[5]:.0f}\")\n",
    "print (f\"Cout minimal={result.fun:.0f}eur\")"
   ]
  },
  {
   "cell_type": "code",
   "execution_count": 55,
   "metadata": {},
   "outputs": [
    {
     "name": "stdout",
     "output_type": "stream",
     "text": [
      "Solution:x1=1,x2=0\n",
      "Valeur optimale=2\n"
     ]
    }
   ],
   "source": [
    "c = [ -2 , -2]\n",
    "A = [[1 , 1]]\n",
    "b = [1]\n",
    "result = linprog (c , A_ub =A , b_ub =b , method ='simplex')\n",
    "print(f\"Solution:x1={result.x[0]:.0f},x2={result.x[1]:.0f}\")\n",
    "print(f\"Valeur optimale={-result.fun:.0f}\")"
   ]
  },
  {
   "cell_type": "code",
   "execution_count": 56,
   "metadata": {},
   "outputs": [
    {
     "name": "stdout",
     "output_type": "stream",
     "text": [
      "[[-2.02884615e+02  0.00000000e+00  0.00000000e+00  1.00000000e+00\n",
      "  -5.57692308e+00  7.69230769e-01  6.92307692e+04]\n",
      " [ 2.30769231e+00  0.00000000e+00  1.00000000e+00  0.00000000e+00\n",
      "   6.15384615e-02 -1.53846154e-02  2.61538462e+03]\n",
      " [ 7.69230769e-01  1.00000000e+00  0.00000000e+00  0.00000000e+00\n",
      "  -4.61538462e-02  6.15384615e-02  5.53846154e+03]\n",
      " [-8.78461538e+00  0.00000000e+00  0.00000000e+00  0.00000000e+00\n",
      "  -3.69230769e-02 -1.90769231e-01 -3.15692308e+04]]\n",
      "Solution optimale : [0.0, 5538.461538461539, 2615.3846153846152]\n",
      "Valeur optimale de la fonction objective : 31569.23076923077\n"
     ]
    }
   ],
   "source": [
    "objective_function = np.array([2.6, 4.0, 3.6])  \n",
    "constraints_factor = np.array([[37.5, 12.5, 100.0], [50, 5, 20], [50, 20, 15]])  \n",
    "constrains_values = np.array([400000.0, 80000.0 , 150000.0]) \n",
    "\n",
    "solution, optimal_value = simplex_method(objective_function, constraints_factor, constrains_values)\n",
    "print(\"Solution optimale :\", solution)\n",
    "print(\"Valeur optimale de la fonction objective :\", optimal_value)"
   ]
  },
  {
   "cell_type": "code",
   "execution_count": null,
   "metadata": {},
   "outputs": [],
   "source": []
  }
 ],
 "metadata": {
  "kernelspec": {
   "display_name": "base",
   "language": "python",
   "name": "python3"
  },
  "language_info": {
   "codemirror_mode": {
    "name": "ipython",
    "version": 3
   },
   "file_extension": ".py",
   "mimetype": "text/x-python",
   "name": "python",
   "nbconvert_exporter": "python",
   "pygments_lexer": "ipython3",
   "version": "3.11.5"
  }
 },
 "nbformat": 4,
 "nbformat_minor": 2
}
